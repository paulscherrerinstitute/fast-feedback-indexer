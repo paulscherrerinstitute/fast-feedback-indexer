{
 "cells": [
  {
   "cell_type": "markdown",
   "id": "796da504",
   "metadata": {},
   "source": [
    "**Index Simple Data Files With The Fast Feedback Indexer**\n",
    "\n",
    "(hans-christian.stadler@psi.ch)"
   ]
  },
  {
   "cell_type": "code",
   "execution_count": 1,
   "id": "4f5aacd8",
   "metadata": {},
   "outputs": [],
   "source": [
    "import os\n",
    "import sys\n",
    "import os.path\n",
    "import numpy as np\n",
    "import matplotlib.pyplot as plt"
   ]
  },
  {
   "cell_type": "markdown",
   "id": "3302d875",
   "metadata": {},
   "source": [
    "In order to import the fast-feedback-indexer python module\n",
    "- the system environment has to be setup correctly. This can be done by sourcing the setup-env.sh scipt that comes with the fast-feedback-indexer, or via the spack module, or manually.\n",
    "- the fast-feedback-indexer cmake compilation needs to be setup to produce the python module.\n",
    "\n",
    "A qick and dirty test is to see if your PYTHONPATH points to the fast-feedback-indexer python module:"
   ]
  },
  {
   "cell_type": "code",
   "execution_count": 2,
   "id": "208d4ec9",
   "metadata": {},
   "outputs": [
    {
     "name": "stdout",
     "output_type": "stream",
     "text": [
      "WARNING: ffbidx is NOT in your python module search path\n"
     ]
    }
   ],
   "source": [
    "if any([\"ffbidx\" in path for path in sys.path]):\n",
    "    print(\"OK: ffbidx is in your python module search path\")\n",
    "else:\n",
    "    print(\"WARNING: ffbidx is NOT in your python module search path\")"
   ]
  },
  {
   "cell_type": "code",
   "execution_count": 3,
   "id": "1e89f2e5",
   "metadata": {},
   "outputs": [
    {
     "name": "stderr",
     "output_type": "stream",
     "text": [
      "(version) ef3fed9b31cce34346c1f558b98e7c66465968f4: Thu, 25 Jul 2024 10:22:47 +0200\n"
     ]
    }
   ],
   "source": [
    "# set python module log level (fatal, error, warn, info, debug) and import fast-feedback-indexer python module\n",
    "os.environ[\"INDEXER_LOG_LEVEL\"] = \"info\"\n",
    "\n",
    "import ffbidx"
   ]
  },
  {
   "cell_type": "markdown",
   "id": "b4ee667c",
   "metadata": {},
   "source": [
    "Simple data files are described [here](https://github.com/paulscherrerinstitute/fast-feedback-indexer/tree/main/data/simple), and the files this notebook uses are [here](https://github.com/paulscherrerinstitute/fast-feedback-indexer/tree/main/data/simple). If you have cloned the fast-feedback-indexer repository and execute this notebook directly from its repository folder, the path below should be correct. Otherwise please adapt the notebook. A quick and dirty check is to see if one of the expected files is present.\n",
    "\n"
   ]
  },
  {
   "cell_type": "code",
   "execution_count": 4,
   "id": "cfd4d844",
   "metadata": {},
   "outputs": [
    {
     "name": "stdout",
     "output_type": "stream",
     "text": [
      "OK: simple data file directory seems to be OK\n"
     ]
    }
   ],
   "source": [
    "simple_data_file_dir = \"../../data/simple/files\"\n",
    "\n",
    "if os.path.exists(os.path.join(simple_data_file_dir, \"image0_local.txt\")):\n",
    "    print(\"OK: simple data file directory seems to be OK\")\n",
    "else:\n",
    "    print(\"WARNING: simple data file directory doesn't look OK\")"
   ]
  },
  {
   "cell_type": "markdown",
   "id": "4db71590",
   "metadata": {},
   "source": [
    "There are 10 simple data files in the repository, numbered 0 to 9. Each of them is present in 3 version: local, peakfinder8, radial. The versions refer to the method that produced the spots.\n",
    "\n",
    "Choose a file/version:"
   ]
  },
  {
   "cell_type": "code",
   "execution_count": 5,
   "id": "a0006391",
   "metadata": {},
   "outputs": [
    {
     "name": "stdout",
     "output_type": "stream",
     "text": [
      "OK\n"
     ]
    }
   ],
   "source": [
    "file_number = 0\n",
    "file_version = \"peakfinder8\"\n",
    "\n",
    "file_path = os.path.join(simple_data_file_dir, f\"image{file_number}_{file_version}.txt\")\n",
    "if os.path.exists(file_path):\n",
    "    print(\"OK\")\n",
    "else:\n",
    "    print(\"WARNING: file/version doesn't exist\")"
   ]
  },
  {
   "cell_type": "markdown",
   "id": "2a1dbf9c",
   "metadata": {},
   "source": [
    "Read the simple data file. There should be one input cell in real space and some spots in reciprocal space. Some lines could be comments starting with \\#."
   ]
  },
  {
   "cell_type": "code",
   "execution_count": 6,
   "id": "96e7b275",
   "metadata": {},
   "outputs": [],
   "source": [
    "coords = []\n",
    "with open(file_path, \"r\") as f:\n",
    "    for line in f.readlines():\n",
    "        try:\n",
    "            coords += [float(x) for x in line.split()]\n",
    "        except:\n",
    "            pass"
   ]
  },
  {
   "cell_type": "markdown",
   "id": "3efff7f7",
   "metadata": {},
   "source": [
    "For the fast-feedback-indexer, input data has to be in float32 column major (Fortran) memory order. There should be a multiple of 3 coordinate pairs, as the cell and spot vectors are in 3D."
   ]
  },
  {
   "cell_type": "code",
   "execution_count": 7,
   "id": "68c9873d",
   "metadata": {},
   "outputs": [
    {
     "name": "stdout",
     "output_type": "stream",
     "text": [
      "(866, 3) float32\n",
      "  C_CONTIGUOUS : False\n",
      "  F_CONTIGUOUS : True\n",
      "  OWNDATA : True\n",
      "  WRITEABLE : True\n",
      "  ALIGNED : True\n",
      "  WRITEBACKIFCOPY : False\n",
      "\n"
     ]
    }
   ],
   "source": [
    "input_data = np.asarray(np.array(coords).reshape(-1, 3), dtype='float32', order='F')\n",
    "\n",
    "if input_data.shape[0] < 4:\n",
    "    print(\"WARNING: data looks bad\")\n",
    "\n",
    "print(input_data.shape, input_data.dtype)\n",
    "print(input_data.flags)"
   ]
  },
  {
   "cell_type": "markdown",
   "id": "7dc96d2b",
   "metadata": {},
   "source": [
    "First and only input cell in real space:"
   ]
  },
  {
   "cell_type": "code",
   "execution_count": 8,
   "id": "b7c135b4",
   "metadata": {},
   "outputs": [
    {
     "data": {
      "text/plain": [
       "array([[3.69000e+01, 0.00000e+00, 0.00000e+00],\n",
       "       [4.83429e-15, 7.89500e+01, 0.00000e+00],\n",
       "       [4.83429e-15, 4.83429e-15, 7.89500e+01]], dtype=float32)"
      ]
     },
     "execution_count": 8,
     "metadata": {},
     "output_type": "execute_result"
    }
   ],
   "source": [
    "input_cell = np.asarray(input_data[:3,:], dtype='float32', order='F')\n",
    "input_cell"
   ]
  },
  {
   "cell_type": "markdown",
   "id": "eaacebe3",
   "metadata": {},
   "source": [
    "First spot in reciprocal space:"
   ]
  },
  {
   "cell_type": "code",
   "execution_count": 9,
   "id": "a0bc8106",
   "metadata": {},
   "outputs": [
    {
     "data": {
      "text/plain": [
       "array([-0.0328844, -0.723767 , -0.31074  ], dtype=float32)"
      ]
     },
     "execution_count": 9,
     "metadata": {},
     "output_type": "execute_result"
    }
   ],
   "source": [
    "spots = np.asarray(input_data[3:,:], dtype='float32', order='F')\n",
    "spots[0,:]"
   ]
  },
  {
   "cell_type": "markdown",
   "id": "9f2f572f",
   "metadata": {},
   "source": [
    "Create an indexer object. Check the description of [ffbidx.Indexer()](https://github.com/paulscherrerinstitute/fast-feedback-indexer/tree/main/python). Here the argumets are:\n",
    "1) max 32 output cells\n",
    "2) max 1 input cell\n",
    "3) the 300 spots first are considered, or less if there aren't that many\n",
    "4) 32 candidate vectors: the algorithms single vector brute force sampling step takes the 32 best vectors and computes the 32 best cells using these vectors as rotation axes.\n",
    "\n",
    "The GPU device is set via the INDEXER_GPU_DEVICE environment variable. This call allocates memory on the GPU device."
   ]
  },
  {
   "cell_type": "code",
   "execution_count": 10,
   "id": "18445fb5",
   "metadata": {},
   "outputs": [
    {
     "name": "stderr",
     "output_type": "stream",
     "text": [
      "(info) using GPU device 0\n"
     ]
    }
   ],
   "source": [
    "os.environ[\"INDEXER_GPU_DEVICE\"] = \"0\"\n",
    "indexer = ffbidx.Indexer(32, 1, 300, 32)"
   ]
  },
  {
   "cell_type": "markdown",
   "id": "22137c7f",
   "metadata": {},
   "source": [
    "Now you can index input data using [Indxer.index()](https://github.com/paulscherrerinstitute/fast-feedback-indexer/tree/main/python). This function can be called several times, of course. E.g. for every frame to be indexed. The arguments are:\n",
    "1) spots in reciprocal space\n",
    "2) input cells in real space\n",
    "3) refinement method\n",
    "4) vector length threshold: vectors are considered to be of the same length if the length differs by less than this threshold\n",
    "5) lower trim value for scoring (look at the description in the repo)\n",
    "6) higher trim value for scoring (look at description)\n",
    "7) delta value for scoring (look at description)\n",
    "8) dist1 value for scoring (look at description)\n",
    "9) dist3 value for scoring (look at description)\n",
    "10) number of sampling points on the half sphere\n",
    "11) number of rotation angles for sampling (0 means use heuristic)\n",
    "12) number of output cells (can be less than reserved for in the ffbidx.Indexer() call)\n",
    "13) refinement threshold contraction factor: lsq refinment to spots approximated within a contracting threshold\n",
    "14) refinement maximum distance to spots: quit refinement when threshold falls below this distance\n",
    "15) refinement minimum number of spots: quit refinement if there are less spots within the refinement threshold\n",
    "16) refinement maximum number of iterations: quit refinement if the number of refinement iterations has reached this\n",
    "\n",
    "This returns the 32 best cells found together with scores (worst error among the best minimum number of spots). The cells are returned as a C array, but in column mayor (Fortran) order."
   ]
  },
  {
   "cell_type": "code",
   "execution_count": 11,
   "id": "be31a352",
   "metadata": {},
   "outputs": [
    {
     "name": "stdout",
     "output_type": "stream",
     "text": [
      "CPU times: user 5.77 ms, sys: 3.51 ms, total: 9.29 ms\n",
      "Wall time: 13.1 ms\n",
      "cells (3, 96) float32\n",
      "  C_CONTIGUOUS : True\n",
      "  F_CONTIGUOUS : False\n",
      "  OWNDATA : True\n",
      "  WRITEABLE : True\n",
      "  ALIGNED : True\n",
      "  WRITEBACKIFCOPY : False\n",
      "\n",
      "[[-28.883888  28.175707 -39.446564  28.883888  28.175707  39.446564\n",
      "   28.896774  39.426765 -28.200153 -28.896774 -39.426765 -28.200153\n",
      "   28.89482  -39.477848  28.179564  28.89482  -28.179564 -39.477848\n",
      "   28.89482   28.179564  39.477848  28.89482   39.477848 -28.179564\n",
      "  -28.90027   28.198088 -39.468025 -28.90027  -39.468025 -28.198088\n",
      "  -28.90027  -28.198088  39.468025 -28.90027   39.468025  28.198088\n",
      "   28.890442 -39.432667  28.20814   28.890442  28.20814   39.432667\n",
      "   28.905212  39.4133   -28.203648  28.905212 -28.203648 -39.4133\n",
      "   28.894114 -39.433548  28.213406  28.894114  28.213406  39.433548\n",
      "   28.894114  39.433548 -28.213406  28.894114 -28.213406 -39.433548\n",
      "  -28.89082   28.195782 -39.409817 -28.89082  -39.409817 -28.195782\n",
      "  -28.89082  -28.195782  39.409817 -28.89082   39.409817  28.195782\n",
      "  -28.921432  28.209354 -39.411144 -28.921432 -39.411144 -28.209354\n",
      "  -28.921432 -28.209354  39.411144 -28.921432  39.411144  28.209354\n",
      "   28.908705 -28.182302 -39.429832 -28.908705 -28.182302  39.429832\n",
      "   28.92438  -39.469852  28.172798 -28.92438   39.469852  28.172798]\n",
      " [ 20.362907  60.379898 -24.990189 -20.362907  60.379898  24.990189\n",
      "  -20.359423  24.987734 -60.37937   20.359423 -24.987734 -60.37937\n",
      "  -20.342062 -25.063957  60.53754  -20.342062 -60.53754  -25.063957\n",
      "  -20.342062  60.53754   25.063957 -20.342062  25.063957 -60.53754\n",
      "   20.3574    60.470234 -25.049414  20.3574   -25.049414 -60.470234\n",
      "   20.3574   -60.470234  25.049414  20.3574    25.049414  60.470234\n",
      "  -20.330627 -24.96786   60.421185 -20.330627  60.421185  24.96786\n",
      "  -20.314838  24.953165 -60.41918  -20.314838 -60.41918  -24.953165\n",
      "  -20.324455 -24.964828  60.42349  -20.324455  60.42349   24.964828\n",
      "  -20.324455  24.964828 -60.42349  -20.324455 -60.42349  -24.964828\n",
      "   20.327658  60.412827 -24.958939  20.327658 -24.958939 -60.412827\n",
      "   20.327658 -60.412827  24.958939  20.327658  24.958939  60.412827\n",
      "   20.333788  60.405792 -24.958282  20.333788 -24.958282 -60.405792\n",
      "   20.333788 -60.405792  24.958282  20.333788  24.958282  60.405792\n",
      "  -20.352594 -60.36915  -24.988747  20.352594 -60.36915   24.988747\n",
      "  -20.344036 -25.010563  60.44976   20.344036  25.010563  60.44976 ]\n",
      " [ 10.228571 -40.9708   -63.080795 -10.228571 -40.9708    63.080795\n",
      "  -10.277967  63.121155  41.03981   10.277967 -63.121155  41.03981\n",
      "  -10.240918 -62.81046  -41.261974 -10.240918  41.261974 -62.81046\n",
      "  -10.240918 -41.261974  62.81046  -10.240918  62.81046   41.261974\n",
      "   10.2302   -41.183624 -62.892677  10.2302   -62.892677  41.183624\n",
      "   10.2302    41.183624  62.892677  10.2302    62.892677 -41.183624\n",
      "  -10.330505 -63.178207 -41.144257 -10.330505 -41.144257  63.178207\n",
      "  -10.359464  63.209026  41.112274 -10.359464  41.112274 -63.209026\n",
      "  -10.314506 -63.182617 -41.134655 -10.314506 -41.134655  63.182617\n",
      "  -10.314506  63.182617  41.134655 -10.314506  41.134655 -63.182617\n",
      "   10.19718  -41.039642 -63.19834   10.19718  -63.19834   41.039642\n",
      "   10.19718   41.039642  63.19834   10.19718   63.19834  -41.039642\n",
      "   10.27103  -41.064865 -63.19531   10.27103  -63.19531   41.064865\n",
      "   10.27103   41.064865  63.19531   10.27103   63.19531  -41.064865\n",
      "  -10.265628  41.02885  -63.107796  10.265628  41.02885   63.107796\n",
      "  -10.252044 -62.966995 -41.08122   10.252044  62.966995 -41.08122 ]]\n",
      "scores (32,) float32\n",
      "[0.00565067 0.00565067 0.00629885 0.00629885 0.00601922 0.00601922\n",
      " 0.00601922 0.00601922 0.00808423 0.00808423 0.00808423 0.00808423\n",
      " 0.00596644 0.00596644 0.00641567 0.00641567 0.00649848 0.00649848\n",
      " 0.00649848 0.00649848 0.00657104 0.00657104 0.00657104 0.00657104\n",
      " 0.00592879 0.00592879 0.00592879 0.00592879 0.0076498  0.0076498\n",
      " 0.00589947 0.00589947]\n"
     ]
    },
    {
     "name": "stderr",
     "output_type": "stream",
     "text": [
      "(info) indexing_time: 3.77283ms\n",
      "(info) kernel_time: 3.63098ms\n"
     ]
    }
   ],
   "source": [
    "%time cells, scores = indexer.run(spots, input_cell, \"ifss\", 1e-9, .05, .3, .1, .3, .2, 32*1024, 0, 32, .8, .001, 6, 15)\n",
    "print(\"cells\", cells.shape, cells.dtype)\n",
    "print(cells.flags)\n",
    "print(cells)\n",
    "print(\"scores\", scores.shape, scores.dtype)\n",
    "print(scores)"
   ]
  },
  {
   "cell_type": "markdown",
   "id": "b1441c55",
   "metadata": {},
   "source": [
    "Release the indexer object and associated resources on the GPU device."
   ]
  },
  {
   "cell_type": "code",
   "execution_count": 12,
   "id": "34d9d6da",
   "metadata": {},
   "outputs": [],
   "source": [
    "del indexer"
   ]
  },
  {
   "cell_type": "markdown",
   "id": "6dbc4d60",
   "metadata": {},
   "source": [
    "Look at the best cell now:"
   ]
  },
  {
   "cell_type": "code",
   "execution_count": 13,
   "id": "e3f9aa68",
   "metadata": {},
   "outputs": [
    {
     "name": "stdout",
     "output_type": "stream",
     "text": [
      "best score is 0.005650669\n"
     ]
    },
    {
     "data": {
      "text/plain": [
       "array([[-28.883888,  28.175707, -39.446564],\n",
       "       [ 20.362907,  60.379898, -24.990189],\n",
       "       [ 10.228571, -40.9708  , -63.080795]], dtype=float32)"
      ]
     },
     "execution_count": 13,
     "metadata": {},
     "output_type": "execute_result"
    }
   ],
   "source": [
    "i = np.argmin(scores)\n",
    "print(\"best score is\", scores[i])\n",
    "cell = cells[:, 3*i:3*i+3]\n",
    "cell"
   ]
  },
  {
   "cell_type": "markdown",
   "id": "787f6666",
   "metadata": {},
   "source": [
    "Function to show some info for a lattice base B:"
   ]
  },
  {
   "cell_type": "code",
   "execution_count": 14,
   "id": "ff45812f",
   "metadata": {},
   "outputs": [],
   "source": [
    "def cell_info(B, **args):\n",
    "    return dict({\n",
    "        'det': np.linalg.det(B),\n",
    "        'vlen': np.linalg.norm(B, axis=0),\n",
    "        'angle': [np.rad2deg(np.arccos(np.dot(B[:, i], B[:, (i+1)%3]) / (np.linalg.norm(B[:, i]) * np.linalg.norm(B[:, (i+1)%3])))) for i in range(3)]\n",
    "    }, **args)\n"
   ]
  },
  {
   "cell_type": "code",
   "execution_count": 15,
   "id": "93bd4e52",
   "metadata": {},
   "outputs": [
    {
     "name": "stdout",
     "output_type": "stream",
     "text": [
      "{'det': np.float32(230001.47), 'vlen': array([36.9 , 78.95, 78.95], dtype=float32), 'angle': [np.float32(90.0), np.float32(90.0), np.float32(90.0)], 'cell': 'input'}\n",
      "{'det': np.float32(225848.28), 'vlen': array([36.790634, 78.21898 , 78.48393 ], dtype=float32), 'angle': [np.float32(90.06743), np.float32(90.33477), np.float32(90.29227)], 'cell': 'best'}\n"
     ]
    }
   ],
   "source": [
    "print(cell_info(input_cell, cell=\"input\"))\n",
    "print(cell_info(cell, cell=\"best\"))"
   ]
  },
  {
   "cell_type": "markdown",
   "id": "45b13698",
   "metadata": {},
   "source": [
    "Function to plot some error statistics."
   ]
  },
  {
   "cell_type": "code",
   "execution_count": 16,
   "id": "dd6547c8",
   "metadata": {},
   "outputs": [],
   "source": [
    "def plot_error(B, S, title):\n",
    "    fig, ax = plt.subplots(nrows=1, ncols=3, figsize=(15,6))\n",
    "    C = S @ B\n",
    "    Z = C.round()\n",
    "    e = np.linalg.norm(C - Z, axis=1)\n",
    "    ax[0].plot(e)\n",
    "    ax[0].set_xlabel('spot')\n",
    "    ax[0].set_ylabel('error')\n",
    "    _ = ax[1].hist(e, bins=50)\n",
    "    ax[1].set_xlabel('error')\n",
    "    ax[1].set_ylabel('number of spots')\n",
    "    _ = ax[2].hist(e, bins=50, cumulative=True, histtype='step')\n",
    "    ax[2].set_xlabel('error')\n",
    "    ax[2].set_ylabel('number of spots')\n",
    "    ax[1].set_title(title)\n",
    "    plt.tight_layout()"
   ]
  },
  {
   "cell_type": "code",
   "execution_count": 17,
   "id": "20de6533",
   "metadata": {},
   "outputs": [
    {
     "data": {
      "image/png": "[encoded data removed]",
      "text/plain": [
       "<Figure size 1500x600 with 3 Axes>"
      ]
     },
     "metadata": {},
     "output_type": "display_data"
    }
   ],
   "source": [
    "plot_error(cell, spots, \"Some error statistics\")"
   ]
  },
  {
   "cell_type": "code",
   "execution_count": null,
   "id": "40ccf98e",
   "metadata": {},
   "outputs": [],
   "source": []
  }
 ],
 "metadata": {
  "kernelspec": {
   "display_name": "Python 3 (ipykernel)",
   "language": "python",
   "name": "python3"
  },
  "language_info": {
   "codemirror_mode": {
    "name": "ipython",
    "version": 3
   },
   "file_extension": ".py",
   "mimetype": "text/x-python",
   "name": "python",
   "nbconvert_exporter": "python",
   "pygments_lexer": "ipython3",
   "version": "3.12.4"
  },
  "vscode": {
   "interpreter": {
    "hash": "1bbd11e642fa61a330cc136191d56a331962618ee939c7219332224bb95f8f60"
   }
  }
 },
 "nbformat": 4,
 "nbformat_minor": 5
}
